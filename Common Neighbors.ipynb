{
 "cells": [
  {
   "cell_type": "markdown",
   "metadata": {},
   "source": [
    "## Baseline Algorithm (Common Neighbors)"
   ]
  },
  {
   "cell_type": "code",
   "execution_count": 57,
   "metadata": {},
   "outputs": [
    {
     "name": "stdout",
     "output_type": "stream",
     "text": [
      "833\n",
      "59978\n"
     ]
    }
   ],
   "source": [
    "import numpy as np\n",
    "import networkx as nx\n",
    "\n",
    "# read in item-item graph\n",
    "G_train = nx.Graph()\n",
    "file = open('amazon-meta_item_item_graph.txt')\n",
    "for line in file:\n",
    "    cell = line.split(' ')\n",
    "    G_train.add_edge(cell[0], cell[1])\n",
    "file.close()\n",
    "\n",
    "print G_train.number_of_nodes()\n",
    "print G_train.number_of_edges()"
   ]
  },
  {
   "cell_type": "code",
   "execution_count": 58,
   "metadata": {
    "collapsed": true
   },
   "outputs": [],
   "source": [
    "# calculate common neighbors \n",
    "# sort according to the number of common neighbors\n",
    "core = G_train.nodes()\n",
    "common = {}\n",
    "for i in range(len(core)):\n",
    "    for j in range(i+1, len(core)):\n",
    "        x = G_train[core[i]]\n",
    "        y = G_train[core[j]]\n",
    "        tmp = [val for val in x if val in y]\n",
    "        common[(core[i], core[j])] = len(tmp)\n",
    "sorted_common = sorted(common.iteritems(), key=lambda d:d[1], reverse = True)\n",
    "#print sorted_common"
   ]
  },
  {
   "cell_type": "code",
   "execution_count": 59,
   "metadata": {},
   "outputs": [
    {
     "name": "stdout",
     "output_type": "stream",
     "text": [
      "833\n",
      "572\n"
     ]
    }
   ],
   "source": [
    "# read in ground truth graph to calculate measurements\n",
    "G_test = nx.Graph()\n",
    "all_nodes_inorder = []\n",
    "file = open('amazon-meta_filtered_ground_truth.txt')\n",
    "for line in file:\n",
    "    line = line[:-1]\n",
    "    cell = line.split(',')\n",
    "    if G_train.has_node(cell[0]):\n",
    "        G_test.add_node(cell[0])\n",
    "        all_nodes_inorder.append(cell[0])\n",
    "    if len(cell) > 1:\n",
    "        for i in range(len(cell)-1):\n",
    "            if G_train.has_node(cell[0]) and G_train.has_node(cell[i+1]):\n",
    "                G_test.add_edge(cell[0], cell[i+1])\n",
    "file.close()\n",
    "\n",
    "print G_test.number_of_nodes()\n",
    "print G_test.number_of_edges()"
   ]
  },
  {
   "cell_type": "code",
   "execution_count": 60,
   "metadata": {},
   "outputs": [
    {
     "name": "stdout",
     "output_type": "stream",
     "text": [
      "15\n"
     ]
    }
   ],
   "source": [
    "# generate predictions based on common neighbors\n",
    "prediction = sorted_common[:G_test.number_of_edges()]\n",
    "tp = 0\n",
    "for i in range(len(prediction)):\n",
    "    node_x = prediction[i][0][0]\n",
    "    node_y = prediction[i][0][1]\n",
    "    if G_test.has_edge(node_x, node_y) == True:\n",
    "        tp += 1\n",
    "#print tp"
   ]
  },
  {
   "cell_type": "code",
   "execution_count": 61,
   "metadata": {
    "collapsed": true
   },
   "outputs": [],
   "source": [
    "# generate similarity graph from common neighbors\n",
    "G_sim = nx.Graph()\n",
    "for node in G_test.nodes():\n",
    "    G_sim.add_node(node)\n",
    "for p in prediction:\n",
    "    G_sim.add_edge(p[0][0],p[0][1])"
   ]
  },
  {
   "cell_type": "code",
   "execution_count": 62,
   "metadata": {
    "collapsed": true
   },
   "outputs": [],
   "source": [
    "# derive classifications of ground truth and common neighbor\n",
    "compare = []\n",
    "testing_list = G_test.nodes()\n",
    "for node1 in testing_list:\n",
    "    for node2 in testing_list:\n",
    "        if node1 != node2:\n",
    "            tmp = [node1,node2]\n",
    "            if not nx.has_path(G_test,node1,node2):\n",
    "                tmp.append(-1)\n",
    "            elif nx.shortest_path_length(G_test,node1,node2) == 1:\n",
    "                tmp.append(1)\n",
    "            else:\n",
    "                tmp.append(0)\n",
    "            if not nx.has_path(G_sim,node1,node2):\n",
    "                tmp.append(-1)\n",
    "            elif nx.shortest_path_length(G_sim,node1,node2) == 1:\n",
    "                tmp.append(1)\n",
    "            else:\n",
    "                tmp.append(0)\n",
    "            compare.append(tmp)"
   ]
  },
  {
   "cell_type": "code",
   "execution_count": 63,
   "metadata": {},
   "outputs": [
    {
     "name": "stdout",
     "output_type": "stream",
     "text": [
      "0.860242173793\n"
     ]
    }
   ],
   "source": [
    "# Measurement 1, classification accuracy\n",
    "accuracy = 0\n",
    "for c in compare:\n",
    "    if c[2] == c[3]:\n",
    "        accuracy += 1\n",
    "accuracy = accuracy*1.0 / len(compare)\n",
    "print(accuracy)"
   ]
  },
  {
   "cell_type": "code",
   "execution_count": 64,
   "metadata": {},
   "outputs": [
    {
     "name": "stdout",
     "output_type": "stream",
     "text": [
      "0.0262237762238\n"
     ]
    }
   ],
   "source": [
    "# Measurement 2, label 1 classification accuracy\n",
    "accuracy = 0\n",
    "for c in compare:\n",
    "    if c[2] == c[3] and c[3] == 1:\n",
    "        accuracy += 1\n",
    "print(accuracy*1.0 / (2*len(G_test.edges())))"
   ]
  },
  {
   "cell_type": "code",
   "execution_count": 67,
   "metadata": {
    "collapsed": true
   },
   "outputs": [],
   "source": [
    "# Top K recommendations, Measurement 3,4\n",
    "# change value of K\n",
    "accuracy = []\n",
    "counter = 0\n",
    "accuracy_sum = 0\n",
    "K = 10\n",
    "for nodes in all_nodes_inorder:\n",
    "    ground_truth_set = set(G_test.neighbors(nodes))\n",
    "    prediction_set = set(G_sim.neighbors(nodes)[:K])\n",
    "    if len(ground_truth_set) == 0:\n",
    "        accuracy.append(2.0)\n",
    "    else:\n",
    "        accuracy_t = len(ground_truth_set.intersection(prediction_set))*1.0\\\n",
    "                     / len(ground_truth_set)\n",
    "        accuracy.append([nodes,accuracy_t])\n",
    "        accuracy_sum += accuracy_t\n",
    "        counter += 1"
   ]
  },
  {
   "cell_type": "code",
   "execution_count": 68,
   "metadata": {},
   "outputs": [
    {
     "data": {
      "text/plain": [
       "0.019493269493269495"
      ]
     },
     "execution_count": 68,
     "metadata": {},
     "output_type": "execute_result"
    }
   ],
   "source": [
    "accuracy_sum / counter"
   ]
  },
  {
   "cell_type": "code",
   "execution_count": null,
   "metadata": {
    "collapsed": true
   },
   "outputs": [],
   "source": []
  }
 ],
 "metadata": {
  "anaconda-cloud": {},
  "kernelspec": {
   "display_name": "Python 2",
   "language": "python",
   "name": "python2"
  },
  "language_info": {
   "codemirror_mode": {
    "name": "ipython",
    "version": 2
   },
   "file_extension": ".py",
   "mimetype": "text/x-python",
   "name": "python",
   "nbconvert_exporter": "python",
   "pygments_lexer": "ipython2",
   "version": "2.7.13"
  }
 },
 "nbformat": 4,
 "nbformat_minor": 2
}
